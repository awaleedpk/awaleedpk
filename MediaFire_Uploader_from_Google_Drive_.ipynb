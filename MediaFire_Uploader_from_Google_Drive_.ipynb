{
  "nbformat": 4,
  "nbformat_minor": 0,
  "metadata": {
    "colab": {
      "provenance": [],
      "authorship_tag": "ABX9TyN7yilXcfA/flzRtCV2p7ME",
      "include_colab_link": true
    },
    "kernelspec": {
      "name": "python3",
      "display_name": "Python 3"
    },
    "language_info": {
      "name": "python"
    }
  },
  "cells": [
    {
      "cell_type": "markdown",
      "metadata": {
        "id": "view-in-github",
        "colab_type": "text"
      },
      "source": [
        "<a href=\"https://colab.research.google.com/github/awaleedpk/awaleedpk/blob/main/MediaFire_Uploader_from_Google_Drive_.ipynb\" target=\"_parent\"><img src=\"https://colab.research.google.com/assets/colab-badge.svg\" alt=\"Open In Colab\"/></a>"
      ]
    },
    {
      "cell_type": "code",
      "execution_count": 12,
      "metadata": {
        "colab": {
          "base_uri": "https://localhost:8080/"
        },
        "id": "1tWSrSSulEXW",
        "outputId": "d330cb6b-629f-41bb-ad7a-fdd43b76eb69"
      },
      "outputs": [
        {
          "output_type": "stream",
          "name": "stdout",
          "text": [
            "Drive already mounted at /content/drive; to attempt to forcibly remount, call drive.mount(\"/content/drive\", force_remount=True).\n"
          ]
        }
      ],
      "source": [
        "# Step 1: Mount Google Drive\n",
        "from google.colab import drive\n",
        "drive.mount('/content/drive')\n",
        "pip install mediafire\n",
        "!pip install alive-progress"
      ]
    },
    {
      "cell_type": "code",
      "source": [
        "from mediafire import MediaFireApi, MediaFireUploader\n",
        "from alive_progress import alive_bar\n",
        "import json"
      ],
      "metadata": {
        "id": "-Jl9q1vjpQ9z"
      },
      "execution_count": 13,
      "outputs": []
    },
    {
      "cell_type": "code",
      "source": [
        "\n",
        "\n",
        "\n",
        "\n",
        "def upload_file_to_mediafire(file_path, file_name, email, password, app_id):\n",
        "    \"\"\"\n",
        "    Uploads a file to MediaFire with a visual loading indicator.\n",
        "    \"\"\"\n",
        "    # Initialize the API and uploader\n",
        "    api = MediaFireApi()\n",
        "    uploader = MediaFireUploader(api)\n",
        "\n",
        "    # Authenticate and set the session\n",
        "    session = api.user_get_session_token(email=email, password=password, app_id=app_id)\n",
        "    api.session = session\n",
        "\n",
        "    print(f'Uploading {file_name}...')\n",
        "\n",
        "    # Using alive_progress to show a spinner during upload\n",
        "    with alive_bar(1, spinner='dots_waves2', force_tty=True) as bar:  # Choose an appropriate spinner style\n",
        "        with open(file_path, 'rb') as fd:\n",
        "            result = uploader.upload(fd, name=file_name)\n",
        "            bar()  # Update spinner to indicate completion\n",
        "\n",
        "    # Get and return file info\n",
        "    file_info = api.file_get_info(result.quickkey)\n",
        "    return file_info\n",
        "\n",
        "# Example usage\n",
        "email = 'pixatab.info@gmail.com'\n",
        "password = '4Kc9Ltr9ZWy3'\n",
        "app_id = '42511'\n",
        "file_path = '/content/drive/MyDrive/1. Techsy/Winter Wallpapers.zip'\n",
        "file_name = 'Winter Wallpaper_pixtab.com.zip'\n",
        "\n",
        "file_info = upload_file_to_mediafire(file_path, file_name, email, password, app_id)\n",
        "print(json.dumps(file_info, indent=4))\n"
      ],
      "metadata": {
        "colab": {
          "base_uri": "https://localhost:8080/"
        },
        "id": "P_bUChDKsfnn",
        "outputId": "79e1ff75-9441-41a3-a742-7f2d6b2eebed"
      },
      "execution_count": 24,
      "outputs": [
        {
          "output_type": "stream",
          "name": "stdout",
          "text": [
            "Uploading Winter Wallpaper_pixtab.com.zip...\n",
            "|████████████████████████████████████████| 1/1 [100%] in 44.2s (0.02/s)         \n",
            "{\n",
            "    \"action\": \"file/get_info\",\n",
            "    \"file_info\": {\n",
            "        \"quickkey\": \"cxxw96cuq9jubww\",\n",
            "        \"filename\": \"Winter Wallpaper_pixtab.com.zip\",\n",
            "        \"ready\": \"yes\",\n",
            "        \"created\": \"2024-02-09 15:14:45\",\n",
            "        \"downloads\": \"0\",\n",
            "        \"description\": \"\",\n",
            "        \"size\": \"44542826\",\n",
            "        \"privacy\": \"public\",\n",
            "        \"password_protected\": \"no\",\n",
            "        \"hash\": \"132de8198bfa9f696c0bf7263c6e3ea948c1317bcd6fa6418f6171903c3b575b\",\n",
            "        \"filetype\": \"archive\",\n",
            "        \"mimetype\": \"application/zip\",\n",
            "        \"owner_name\": \"Ahmad Waleed-9i5p\",\n",
            "        \"flag\": \"2\",\n",
            "        \"revision\": \"16\",\n",
            "        \"view\": \"0\",\n",
            "        \"edit\": \"0\",\n",
            "        \"links\": {\n",
            "            \"normal_download\": \"https://www.mediafire.com/file/cxxw96cuq9jubww/Winter_Wallpaper_pixtab.com.zip/file\"\n",
            "        },\n",
            "        \"created_utc\": \"2024-02-09T21:14:45Z\"\n",
            "    },\n",
            "    \"result\": \"Success\",\n",
            "    \"new_key\": \"yes\",\n",
            "    \"current_api_version\": \"1.5\"\n",
            "}\n"
          ]
        }
      ]
    }
  ]
}